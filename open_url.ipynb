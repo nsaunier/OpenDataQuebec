{
  "nbformat": 4,
  "nbformat_minor": 0,
  "metadata": {
    "colab": {
      "name": "open_url.ipynb",
      "provenance": [],
      "authorship_tag": "ABX9TyM4wFQZv8AaQA+l+QHh9iws",
      "include_colab_link": true
    },
    "kernelspec": {
      "name": "python3",
      "display_name": "Python 3"
    },
    "language_info": {
      "name": "python"
    }
  },
  "cells": [
    {
      "cell_type": "markdown",
      "metadata": {
        "id": "view-in-github",
        "colab_type": "text"
      },
      "source": [
        "<a href=\"https://colab.research.google.com/github/tarcisiocsn/OpenDataMontreal/blob/main/open_url.ipynb\" target=\"_parent\"><img src=\"https://colab.research.google.com/assets/colab-badge.svg\" alt=\"Open In Colab\"/></a>"
      ]
    },
    {
      "cell_type": "code",
      "execution_count": 1,
      "metadata": {
        "id": "wvzla-t3c_wc"
      },
      "outputs": [],
      "source": [
        "# Import package\n",
        "from urllib.request import urlretrieve\n",
        "# Import pandas\n",
        "import pandas as pd\n"
      ]
    },
    {
      "cell_type": "code",
      "source": [
        "# Assign url of file: url\n",
        "url = 'https://assets.datacamp.com/production/course_1606/datasets/winequality-red.csv'"
      ],
      "metadata": {
        "id": "33vB6yZOdK6Z"
      },
      "execution_count": 2,
      "outputs": []
    },
    {
      "cell_type": "code",
      "source": [
        "# Save file locally\n",
        "urlretrieve(url, 'winequality-red.csv')"
      ],
      "metadata": {
        "colab": {
          "base_uri": "https://localhost:8080/"
        },
        "id": "RAp8Yp3TdSB2",
        "outputId": "bfeb6d70-1a4b-4571-b6d6-28b6f988c749"
      },
      "execution_count": 3,
      "outputs": [
        {
          "output_type": "execute_result",
          "data": {
            "text/plain": [
              "('winequality-red.csv', <http.client.HTTPMessage at 0x7fe8ea037890>)"
            ]
          },
          "metadata": {},
          "execution_count": 3
        }
      ]
    },
    {
      "cell_type": "code",
      "source": [
        "# Read file into a DataFrame and print its head\n",
        "df = pd.read_csv('winequality-red.csv', sep=';')\n",
        "print(df.head())"
      ],
      "metadata": {
        "colab": {
          "base_uri": "https://localhost:8080/"
        },
        "id": "KHLPv300dUkJ",
        "outputId": "ceee86f0-4425-44c1-a9f4-d9da066dcbd3"
      },
      "execution_count": 4,
      "outputs": [
        {
          "output_type": "stream",
          "name": "stdout",
          "text": [
            "   fixed acidity  volatile acidity  citric acid  residual sugar  chlorides  \\\n",
            "0            7.4              0.70         0.00             1.9      0.076   \n",
            "1            7.8              0.88         0.00             2.6      0.098   \n",
            "2            7.8              0.76         0.04             2.3      0.092   \n",
            "3           11.2              0.28         0.56             1.9      0.075   \n",
            "4            7.4              0.70         0.00             1.9      0.076   \n",
            "\n",
            "   free sulfur dioxide  total sulfur dioxide  density    pH  sulphates  \\\n",
            "0                 11.0                  34.0   0.9978  3.51       0.56   \n",
            "1                 25.0                  67.0   0.9968  3.20       0.68   \n",
            "2                 15.0                  54.0   0.9970  3.26       0.65   \n",
            "3                 17.0                  60.0   0.9980  3.16       0.58   \n",
            "4                 11.0                  34.0   0.9978  3.51       0.56   \n",
            "\n",
            "   alcohol  quality  \n",
            "0      9.4        5  \n",
            "1      9.8        5  \n",
            "2      9.8        5  \n",
            "3      9.8        6  \n",
            "4      9.4        5  \n"
          ]
        }
      ]
    },
    {
      "cell_type": "code",
      "source": [
        "# Import packages\n",
        "import matplotlib.pyplot as plt\n",
        "import pandas as pd\n",
        "\n",
        "# Assign url of file: url\n",
        "url = 'https://assets.datacamp.com/production/course_1606/datasets/winequality-red.csv'\n",
        "\n",
        "\n",
        "# Read file into a DataFrame: df\n",
        "df = pd.read_csv(url, sep=';')\n",
        "\n",
        "# Print the head of the DataFrame\n",
        "print(df.head())\n",
        "\n",
        "# Plot first column of df\n",
        "df.iloc[:, 0].hist()\n",
        "plt.xlabel('fixed acidity (g(tartaric acid)/dm$^3$)')\n",
        "plt.ylabel('count')\n",
        "plt.show()"
      ],
      "metadata": {
        "colab": {
          "base_uri": "https://localhost:8080/",
          "height": 632
        },
        "id": "gQFyObMHgn_c",
        "outputId": "b8aa1c2b-ea1a-4a20-e8db-435a14046920"
      },
      "execution_count": 1,
      "outputs": [
        {
          "output_type": "stream",
          "name": "stdout",
          "text": [
            "   fixed acidity  volatile acidity  citric acid  residual sugar  chlorides  \\\n",
            "0            7.4              0.70         0.00             1.9      0.076   \n",
            "1            7.8              0.88         0.00             2.6      0.098   \n",
            "2            7.8              0.76         0.04             2.3      0.092   \n",
            "3           11.2              0.28         0.56             1.9      0.075   \n",
            "4            7.4              0.70         0.00             1.9      0.076   \n",
            "\n",
            "   free sulfur dioxide  total sulfur dioxide  density    pH  sulphates  \\\n",
            "0                 11.0                  34.0   0.9978  3.51       0.56   \n",
            "1                 25.0                  67.0   0.9968  3.20       0.68   \n",
            "2                 15.0                  54.0   0.9970  3.26       0.65   \n",
            "3                 17.0                  60.0   0.9980  3.16       0.58   \n",
            "4                 11.0                  34.0   0.9978  3.51       0.56   \n",
            "\n",
            "   alcohol  quality  \n",
            "0      9.4        5  \n",
            "1      9.8        5  \n",
            "2      9.8        5  \n",
            "3      9.8        6  \n",
            "4      9.4        5  \n"
          ]
        },
        {
          "output_type": "display_data",
          "data": {
            "text/plain": [
              "<Figure size 432x288 with 1 Axes>"
            ],
            "image/png": "[encoded data removed]"
          },
          "metadata": {
            "needs_background": "light"
          }
        }
      ]
    },
    {
      "cell_type": "code",
      "source": [
        "# Import package\n",
        "import requests\n",
        "# Specify the url: url\n",
        "url = \"https://donnees.montreal.ca/ville-de-montreal/velos-comptage\"\n",
        "\n",
        "# Packages the request, send the request and catch the response: r\n",
        "r = requests.get(url)\n",
        "\n",
        "# Extract the response: text\n",
        "text = r.text\n",
        "\n",
        "# Print the html\n",
        "print(text)"
      ],
      "metadata": {
        "id": "XPD_AbiHolpT"
      },
      "execution_count": null,
      "outputs": []
    },
    {
      "cell_type": "code",
      "source": [
        "# Import packages\n",
        "import requests\n",
        "from bs4 import BeautifulSoup\n",
        "\n",
        "# Specify url: url\n",
        "url = url = 'https://donnees.montreal.ca/ville-de-montreal/velos-comptage'\n",
        "\n",
        "# Package the request, send the request and catch the response: r\n",
        "r = requests.get(url)\n",
        "\n",
        "# Extracts the response as html: html_doc\n",
        "html_doc = r.text\n",
        "\n",
        "# Create a BeautifulSoup object from the HTML: soup\n",
        "soup = BeautifulSoup(html_doc)\n",
        "\n",
        "# Prettify the BeautifulSoup object: pretty_soup\n",
        "pretty_soup = soup.prettify()\n",
        "\n",
        "# Print the response\n",
        "print(pretty_soup)"
      ],
      "metadata": {
        "id": "TDKrOhfrtcpQ"
      },
      "execution_count": null,
      "outputs": []
    },
    {
      "cell_type": "markdown",
      "source": [
        "#Turning a webpage into data using BeautifulSoup: getting the hyperlinks\n",
        "\n",
        "In this exercise, you'll figure out how to extract the URLs of the hyperlinks from the BDFL's webpage. In the process, you'll become close friends with the soup method find_all().\n",
        "___\n",
        "###Instructions\n",
        "___\n",
        "100 XP\n",
        "Use the method find_all() to find all hyperlinks in soup, \n",
        "remembering that hyperlinks are defined by the HTML tag 'a' but passed to find_all() without angle brackets; \n",
        "\n",
        "store the result in the variable a_tags.\n",
        "\n",
        "The variable a_tags is a results set: your job now is to enumerate over it, using a for loop and to print the actual URLs of the hyperlinks; to do this, for every element link in a_tags, you want to print() link.get('href')."
      ],
      "metadata": {
        "id": "vW92J_HnwIHp"
      }
    },
    {
      "cell_type": "code",
      "source": [
        "# Import packages\n",
        "import requests\n",
        "from bs4 import BeautifulSoup\n",
        "\n",
        "# Specify url\n",
        "url = 'https://donnees.montreal.ca/ville-de-montreal/velos-comptage'\n",
        "\n",
        "# Package the request, send the request and catch the response: r\n",
        "r = requests.get(url)\n",
        "\n",
        "# Extracts the response as html: html_doc\n",
        "html_doc = r.text\n",
        "\n",
        "# create a BeautifulSoup object from the HTML: soup\n",
        "soup = BeautifulSoup(html_doc)\n",
        "\n",
        "# Print the title of Guido's webpage\n",
        "print(soup.title)\n",
        "\n",
        "# Find all 'a' tags (which define hyperlinks): a_tags\n",
        "a_tags = soup.find_all('a')\n",
        "# Print the URLs to the shell\n",
        "for link in a_tags:\n",
        "    print(link.get('href'))"
      ],
      "metadata": {
        "colab": {
          "base_uri": "https://localhost:8080/"
        },
        "id": "1qAnj4jHvi-A",
        "outputId": "235b83d7-6b91-4e5b-e820-8c4ac05393ce"
      },
      "execution_count": 13,
      "outputs": [
        {
          "output_type": "stream",
          "name": "stdout",
          "text": [
            "<title>\n",
            "    \n",
            "Comptages des vélos sur les pistes cyclables - Jeu de données\n",
            "\n",
            "  </title>\n",
            "/\n",
            "/\n",
            "/collections\n",
            "/collections/infrastructures\n",
            "#data\n",
            "#methodology\n",
            "#territories\n",
            "#keywords\n",
            "#additional-info\n",
            "/organization/ville-de-montreal\n",
            "https://data.montreal.ca/dataset/f170fecc-18db-44bc-b4fe-5b0b6d2c7297/resource/c7d0546a-a218-479e-bc9f-ce8f13ca972c/download/localisation_des_compteurs_velo.csv\n",
            "https://data.montreal.ca/dataset/f170fecc-18db-44bc-b4fe-5b0b6d2c7297/resource/fd3da18e-8f87-44e4-890b-30dff05c12b8/download/comptage_velo_2022.csv\n",
            "https://data.montreal.ca/dataset/f170fecc-18db-44bc-b4fe-5b0b6d2c7297/resource/b463fa29-8549-4664-ae68-b17ab604e0a5/download/comptage_velo_2021.csv\n",
            "https://data.montreal.ca/dataset/f170fecc-18db-44bc-b4fe-5b0b6d2c7297/resource/eec17749-1a50-47b2-bc4e-1960ddc09eff/download/comptage_velo_2020.csv\n",
            "https://data.montreal.ca/dataset/f170fecc-18db-44bc-b4fe-5b0b6d2c7297/resource/2cd0e082-f818-4014-9390-8e1c197ba806/download/comptage_velo_2019.csv\n",
            "https://data.montreal.ca/dataset/f170fecc-18db-44bc-b4fe-5b0b6d2c7297/resource/eea2434f-32b3-4dc5-9035-f1642509f0e7/download/comptage_velo_2018.csv\n",
            "https://data.montreal.ca/dataset/f170fecc-18db-44bc-b4fe-5b0b6d2c7297/resource/83063700-8fe7-4e6f-8c4b-ed55f4602514/download/comptagevelo2017.csv\n",
            "https://data.montreal.ca/dataset/f170fecc-18db-44bc-b4fe-5b0b6d2c7297/resource/6caecdd0-e5ac-48c1-a0cc-5b537936d5f6/download/comptagevelo20162.csv\n",
            "https://data.montreal.ca/dataset/f170fecc-18db-44bc-b4fe-5b0b6d2c7297/resource/64c26fd3-0bdf-45f8-92c6-715a9c852a7b/download/comptagevelo20152.csv\n",
            "https://data.montreal.ca/dataset/f170fecc-18db-44bc-b4fe-5b0b6d2c7297/resource/868b4bc8-ff55-4c48-ab3b-d80615445595/download/comptagevelo2014.csv\n",
            "https://data.montreal.ca/dataset/f170fecc-18db-44bc-b4fe-5b0b6d2c7297/resource/ec12447d-6b2a-45d0-b0e7-fd69c382e368/download/comptagevelo2013.csv\n",
            "https://data.montreal.ca/dataset/f170fecc-18db-44bc-b4fe-5b0b6d2c7297/resource/d54cec49-349e-47af-b152-7740056d7311/download/comptagevelo2012.csv\n",
            "https://data.montreal.ca/dataset/f170fecc-18db-44bc-b4fe-5b0b6d2c7297/resource/f2e43419-ebb2-4e38-80b6-0644c8344338/download/comptagevelo2011.csv\n",
            "https://data.montreal.ca/dataset/f170fecc-18db-44bc-b4fe-5b0b6d2c7297/resource/f23e1c88-cd04-467f-a64a-48f5eb1b6c9e/download/comptagevelo2010.csv\n",
            "https://data.montreal.ca/dataset/f170fecc-18db-44bc-b4fe-5b0b6d2c7297/resource/ee1e9541-939d-429e-919a-8ab94527773c/download/comptagevelo2009.csv\n",
            "https://data.montreal.ca/dataset/f170fecc-18db-44bc-b4fe-5b0b6d2c7297/resource/c7d0546a-a218-479e-bc9f-ce8f13ca972c/download/localisation_des_compteurs_velo.csv\n",
            "None\n",
            "http://docs.ckan.org/en/latest/maintaining/datastore.html\n",
            "https://data.montreal.ca/api/3/action/datastore_search?resource_id=c7d0546a-a218-479e-bc9f-ce8f13ca972c&limit=5\n",
            "https://data.montreal.ca/api/3/action/datastore_search_sql?sql=SELECT * from \"c7d0546a-a218-479e-bc9f-ce8f13ca972c\" LIMIT 5\n",
            "https://data.montreal.ca/dataset/f170fecc-18db-44bc-b4fe-5b0b6d2c7297/resource/fd3da18e-8f87-44e4-890b-30dff05c12b8/download/comptage_velo_2022.csv\n",
            "None\n",
            "http://docs.ckan.org/en/latest/maintaining/datastore.html\n",
            "https://data.montreal.ca/api/3/action/datastore_search?resource_id=fd3da18e-8f87-44e4-890b-30dff05c12b8&limit=5\n",
            "https://data.montreal.ca/api/3/action/datastore_search_sql?sql=SELECT * from \"fd3da18e-8f87-44e4-890b-30dff05c12b8\" LIMIT 5\n",
            "https://data.montreal.ca/dataset/f170fecc-18db-44bc-b4fe-5b0b6d2c7297/resource/b463fa29-8549-4664-ae68-b17ab604e0a5/download/comptage_velo_2021.csv\n",
            "None\n",
            "http://docs.ckan.org/en/latest/maintaining/datastore.html\n",
            "https://data.montreal.ca/api/3/action/datastore_search?resource_id=b463fa29-8549-4664-ae68-b17ab604e0a5&limit=5\n",
            "https://data.montreal.ca/api/3/action/datastore_search_sql?sql=SELECT * from \"b463fa29-8549-4664-ae68-b17ab604e0a5\" LIMIT 5\n",
            "https://data.montreal.ca/dataset/f170fecc-18db-44bc-b4fe-5b0b6d2c7297/resource/eec17749-1a50-47b2-bc4e-1960ddc09eff/download/comptage_velo_2020.csv\n",
            "None\n",
            "http://docs.ckan.org/en/latest/maintaining/datastore.html\n",
            "https://data.montreal.ca/api/3/action/datastore_search?resource_id=eec17749-1a50-47b2-bc4e-1960ddc09eff&limit=5\n",
            "https://data.montreal.ca/api/3/action/datastore_search_sql?sql=SELECT * from \"eec17749-1a50-47b2-bc4e-1960ddc09eff\" LIMIT 5\n",
            "https://data.montreal.ca/dataset/f170fecc-18db-44bc-b4fe-5b0b6d2c7297/resource/2cd0e082-f818-4014-9390-8e1c197ba806/download/comptage_velo_2019.csv\n",
            "None\n",
            "http://docs.ckan.org/en/latest/maintaining/datastore.html\n",
            "https://data.montreal.ca/api/3/action/datastore_search?resource_id=2cd0e082-f818-4014-9390-8e1c197ba806&limit=5\n",
            "https://data.montreal.ca/api/3/action/datastore_search_sql?sql=SELECT * from \"2cd0e082-f818-4014-9390-8e1c197ba806\" LIMIT 5\n",
            "https://data.montreal.ca/dataset/f170fecc-18db-44bc-b4fe-5b0b6d2c7297/resource/eea2434f-32b3-4dc5-9035-f1642509f0e7/download/comptage_velo_2018.csv\n",
            "None\n",
            "http://docs.ckan.org/en/latest/maintaining/datastore.html\n",
            "https://data.montreal.ca/api/3/action/datastore_search?resource_id=eea2434f-32b3-4dc5-9035-f1642509f0e7&limit=5\n",
            "https://data.montreal.ca/api/3/action/datastore_search_sql?sql=SELECT * from \"eea2434f-32b3-4dc5-9035-f1642509f0e7\" LIMIT 5\n",
            "https://data.montreal.ca/dataset/f170fecc-18db-44bc-b4fe-5b0b6d2c7297/resource/83063700-8fe7-4e6f-8c4b-ed55f4602514/download/comptagevelo2017.csv\n",
            "None\n",
            "http://docs.ckan.org/en/latest/maintaining/datastore.html\n",
            "https://data.montreal.ca/api/3/action/datastore_search?resource_id=83063700-8fe7-4e6f-8c4b-ed55f4602514&limit=5\n",
            "https://data.montreal.ca/api/3/action/datastore_search_sql?sql=SELECT * from \"83063700-8fe7-4e6f-8c4b-ed55f4602514\" LIMIT 5\n",
            "https://data.montreal.ca/dataset/f170fecc-18db-44bc-b4fe-5b0b6d2c7297/resource/6caecdd0-e5ac-48c1-a0cc-5b537936d5f6/download/comptagevelo20162.csv\n",
            "None\n",
            "http://docs.ckan.org/en/latest/maintaining/datastore.html\n",
            "https://data.montreal.ca/api/3/action/datastore_search?resource_id=6caecdd0-e5ac-48c1-a0cc-5b537936d5f6&limit=5\n",
            "https://data.montreal.ca/api/3/action/datastore_search_sql?sql=SELECT * from \"6caecdd0-e5ac-48c1-a0cc-5b537936d5f6\" LIMIT 5\n",
            "https://data.montreal.ca/dataset/f170fecc-18db-44bc-b4fe-5b0b6d2c7297/resource/64c26fd3-0bdf-45f8-92c6-715a9c852a7b/download/comptagevelo20152.csv\n",
            "None\n",
            "http://docs.ckan.org/en/latest/maintaining/datastore.html\n",
            "https://data.montreal.ca/api/3/action/datastore_search?resource_id=64c26fd3-0bdf-45f8-92c6-715a9c852a7b&limit=5\n",
            "https://data.montreal.ca/api/3/action/datastore_search_sql?sql=SELECT * from \"64c26fd3-0bdf-45f8-92c6-715a9c852a7b\" LIMIT 5\n",
            "https://data.montreal.ca/dataset/f170fecc-18db-44bc-b4fe-5b0b6d2c7297/resource/868b4bc8-ff55-4c48-ab3b-d80615445595/download/comptagevelo2014.csv\n",
            "None\n",
            "http://docs.ckan.org/en/latest/maintaining/datastore.html\n",
            "https://data.montreal.ca/api/3/action/datastore_search?resource_id=868b4bc8-ff55-4c48-ab3b-d80615445595&limit=5\n",
            "https://data.montreal.ca/api/3/action/datastore_search_sql?sql=SELECT * from \"868b4bc8-ff55-4c48-ab3b-d80615445595\" LIMIT 5\n",
            "https://data.montreal.ca/dataset/f170fecc-18db-44bc-b4fe-5b0b6d2c7297/resource/ec12447d-6b2a-45d0-b0e7-fd69c382e368/download/comptagevelo2013.csv\n",
            "None\n",
            "http://docs.ckan.org/en/latest/maintaining/datastore.html\n",
            "https://data.montreal.ca/api/3/action/datastore_search?resource_id=ec12447d-6b2a-45d0-b0e7-fd69c382e368&limit=5\n",
            "https://data.montreal.ca/api/3/action/datastore_search_sql?sql=SELECT * from \"ec12447d-6b2a-45d0-b0e7-fd69c382e368\" LIMIT 5\n",
            "https://data.montreal.ca/dataset/f170fecc-18db-44bc-b4fe-5b0b6d2c7297/resource/d54cec49-349e-47af-b152-7740056d7311/download/comptagevelo2012.csv\n",
            "None\n",
            "http://docs.ckan.org/en/latest/maintaining/datastore.html\n",
            "https://data.montreal.ca/api/3/action/datastore_search?resource_id=d54cec49-349e-47af-b152-7740056d7311&limit=5\n",
            "https://data.montreal.ca/api/3/action/datastore_search_sql?sql=SELECT * from \"d54cec49-349e-47af-b152-7740056d7311\" LIMIT 5\n",
            "https://data.montreal.ca/dataset/f170fecc-18db-44bc-b4fe-5b0b6d2c7297/resource/f2e43419-ebb2-4e38-80b6-0644c8344338/download/comptagevelo2011.csv\n",
            "None\n",
            "http://docs.ckan.org/en/latest/maintaining/datastore.html\n",
            "https://data.montreal.ca/api/3/action/datastore_search?resource_id=f2e43419-ebb2-4e38-80b6-0644c8344338&limit=5\n",
            "https://data.montreal.ca/api/3/action/datastore_search_sql?sql=SELECT * from \"f2e43419-ebb2-4e38-80b6-0644c8344338\" LIMIT 5\n",
            "https://data.montreal.ca/dataset/f170fecc-18db-44bc-b4fe-5b0b6d2c7297/resource/f23e1c88-cd04-467f-a64a-48f5eb1b6c9e/download/comptagevelo2010.csv\n",
            "None\n",
            "http://docs.ckan.org/en/latest/maintaining/datastore.html\n",
            "https://data.montreal.ca/api/3/action/datastore_search?resource_id=f23e1c88-cd04-467f-a64a-48f5eb1b6c9e&limit=5\n",
            "https://data.montreal.ca/api/3/action/datastore_search_sql?sql=SELECT * from \"f23e1c88-cd04-467f-a64a-48f5eb1b6c9e\" LIMIT 5\n",
            "https://data.montreal.ca/dataset/f170fecc-18db-44bc-b4fe-5b0b6d2c7297/resource/ee1e9541-939d-429e-919a-8ab94527773c/download/comptagevelo2009.csv\n",
            "None\n",
            "http://docs.ckan.org/en/latest/maintaining/datastore.html\n",
            "https://data.montreal.ca/api/3/action/datastore_search?resource_id=ee1e9541-939d-429e-919a-8ab94527773c&limit=5\n",
            "https://data.montreal.ca/api/3/action/datastore_search_sql?sql=SELECT * from \"ee1e9541-939d-429e-919a-8ab94527773c\" LIMIT 5\n",
            "/search?q=tags:Comptage\n",
            "/search?q=tags:Piste cyclable\n",
            "/search?q=tags:Vélo\n",
            "http://www.eco-public.com/ParcPublic/?id=630#\n",
            "/organization/ville-de-montreal\n",
            "#\n",
            "/search\n",
            "/applications\n",
            "/organization\n",
            "/notre-demarche\n",
            "/licence-d-utilisation\n",
            "/news\n",
            "/nous-joindre\n",
            "https://twitter.com/mtl_do\n",
            "https://data.montreal.ca/feeds/dataset.atom\n",
            "https://montreal.ca/articles/accessibilite\n",
            "https://montreal.ca/articles/confidentialite\n",
            "https://montreal.ca/articles/mentions-legales\n",
            "https://disqus.com/?ref_noscript\n"
          ]
        }
      ]
    }
  ]
}