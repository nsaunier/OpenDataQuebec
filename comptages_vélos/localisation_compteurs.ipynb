{
  "nbformat": 4,
  "nbformat_minor": 0,
  "metadata": {
    "colab": {
      "name": "localisation_compteurs.ipynb",
      "provenance": []
    },
    "kernelspec": {
      "name": "python3",
      "display_name": "Python 3"
    },
    "language_info": {
      "name": "python"
    }
  },
  "cells": [
    {
      "cell_type": "markdown",
      "source": [
        "# Comptages des vélos \n",
        "\n",
        "Localisation des compteurs data analysis.\n"
      ],
      "metadata": {
        "id": "6Ri17NgZ-9AQ"
      }
    },
    {
      "cell_type": "code",
      "source": [
        "# import packages\n",
        "import pandas as pd\n",
        "import matplotlib.pyplot as plt\n"
      ],
      "metadata": {
        "id": "Mb5mGcu8AAV9"
      },
      "execution_count": 6,
      "outputs": []
    },
    {
      "cell_type": "code",
      "source": [
        "# Assign url of file: url\n",
        "url = 'https://data.montreal.ca/dataset/f170fecc-18db-44bc-b4fe-5b0b6d2c7297/resource/c7d0546a-a218-479e-bc9f-ce8f13ca972c/download/localisation_des_compteurs_velo.csv'\n",
        "\n",
        "# Read file into a DataFrame: df\n",
        "df = pd.read_csv(url, sep=',')\n",
        "\n",
        "# Print the head of the DataFrame\n",
        "print(df.head())"
      ],
      "metadata": {
        "colab": {
          "base_uri": "https://localhost:8080/"
        },
        "id": "l6LBdCS2ASa3",
        "outputId": "820aa490-bd02-4753-99b6-b44a1fe8dfa4"
      },
      "execution_count": 3,
      "outputs": [
        {
          "output_type": "stream",
          "name": "stdout",
          "text": [
            "          ID  Ancien_ID                       Nom Statut   Latitude  \\\n",
            "0  100041114        NaN  Eco-Display Parc Stanley  Actif  45.557593   \n",
            "1  100002880       10.0      Pont Jacques-Cartier  Actif  45.525508   \n",
            "2  100003032        3.0                    Berri1  Actif  45.516216   \n",
            "3  100003034        6.0         Rachel / Papineau  Actif  45.530448   \n",
            "4  100003039        5.0     Maisonneuve_2 (@Peel)  Actif  45.500507   \n",
            "\n",
            "   Longitude  Annee_implante  \n",
            "0 -73.673222            2018  \n",
            "1 -73.554422            2011  \n",
            "2 -73.562970            2010  \n",
            "3 -73.569540            2007  \n",
            "4 -73.574970            2008  \n"
          ]
        }
      ]
    },
    {
      "cell_type": "code",
      "source": [
        "plt.scatter(df.Latitude, df.Longitude)\n",
        "\n",
        "plt.ylabel('Latitude')\n",
        "plt.xlabel('Longitude')\n",
        "\n",
        "plt.show()"
      ],
      "metadata": {
        "colab": {
          "base_uri": "https://localhost:8080/",
          "height": 279
        },
        "id": "0rFVC6rYAuOd",
        "outputId": "5edf69da-5a35-4ba4-f16c-a7095ea4393c"
      },
      "execution_count": 7,
      "outputs": [
        {
          "output_type": "display_data",
          "data": {
            "text/plain": [
              "<Figure size 432x288 with 1 Axes>"
            ],
            "image/png": "[encoded data removed]"
          },
          "metadata": {
            "needs_background": "light"
          }
        }
      ]
    }
  ]
}