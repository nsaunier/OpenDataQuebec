{
 "cells": [
  {
   "attachments": {},
   "cell_type": "markdown",
   "id": "2cd36d4c-5a4f-4f04-a52b-9204fb1ab35f",
   "metadata": {},
   "source": [
    "## Analysis of the data"
   ]
  },
  {
   "cell_type": "code",
   "execution_count": 21,
   "id": "0487a240-6757-465e-b48a-ded271ec018e",
   "metadata": {},
   "outputs": [],
   "source": [
    "import os\n",
    "import matplotlib.pyplot as plt\n",
    "import seaborn as sns\n",
    "import numpy as np\n"
   ]
  },
  {
   "cell_type": "code",
   "execution_count": 2,
   "id": "78cc134b-8166-4325-af35-0c5da8dae738",
   "metadata": {
    "slideshow": {
     "slide_type": "slide"
    },
    "tags": []
   },
   "outputs": [
    {
     "name": "stdout",
     "output_type": "stream",
     "text": [
      "The folder 'debit_circulation_quebec' contains 4890 subfolders.\n"
     ]
    }
   ],
   "source": [
    "# preview analysis of how much data for year we have per aggregated files and count files\n",
    "\n",
    "import os\n",
    "\n",
    "# Specify the folder path\n",
    "folder_path = 'debit_circulation_quebec'  \n",
    "# Get the list of subdirectories\n",
    "subfolders = next(os.walk(folder_path))[1]\n",
    "\n",
    "# Print the number of subfolders\n",
    "print(f\"The folder '{folder_path}' contains {len(subfolders)} subfolders.\")\n",
    "\n"
   ]
  },
  {
   "cell_type": "code",
   "execution_count": 3,
   "id": "08313179",
   "metadata": {},
   "outputs": [
    {
     "name": "stdout",
     "output_type": "stream",
     "text": [
      "Number of subfolders with aggregated files: 650\n",
      "Number of subfolders with count files: 4852\n"
     ]
    }
   ],
   "source": [
    "import os\n",
    "\n",
    "# Specify the folder path\n",
    "folder_path = 'debit_circulation_quebec'\n",
    "# Get the list of subdirectories\n",
    "subfolders = next(os.walk(folder_path))[1]\n",
    "\n",
    "# Initialize counters\n",
    "aggregated_folder_count = 0\n",
    "count_folder_count = 0\n",
    "\n",
    "# Iterate over subfolders\n",
    "for subfolder in subfolders:\n",
    "    # Get the list of files in the subfolder\n",
    "    files = os.listdir(os.path.join(folder_path, subfolder))\n",
    "    \n",
    "    # Check if the subfolder contains aggregated files\n",
    "    aggregated_files_present = any(file.startswith(subfolder) and '_' in file for file in files)\n",
    "    \n",
    "    # Check if the subfolder contains count files\n",
    "    count_files_present = any(file.startswith(subfolder) and '-' in file and 'donnees' in file for file in files)\n",
    "    \n",
    "    # Increment counters\n",
    "    if aggregated_files_present:\n",
    "        aggregated_folder_count += 1\n",
    "    if count_files_present:\n",
    "        count_folder_count += 1\n",
    "\n",
    "# Print the counts\n",
    "print(f\"Number of subfolders with aggregated files: {aggregated_folder_count}\")\n",
    "print(f\"Number of subfolders with count files: {count_folder_count}\")\n"
   ]
  },
  {
   "attachments": {},
   "cell_type": "markdown",
   "id": "b936a460",
   "metadata": {},
   "source": [
    "> So the results shows that we have sections with only subdolders of count files (données)"
   ]
  },
  {
   "cell_type": "code",
   "execution_count": 11,
   "id": "d950ae87-4ac0-495e-97c5-ea5a6053130f",
   "metadata": {},
   "outputs": [
    {
     "name": "stdout",
     "output_type": "stream",
     "text": [
      "Total number of aggregated files: 3963\n",
      "Total number of count files: 10441\n"
     ]
    }
   ],
   "source": [
    "# number of aggregated files and count files\n",
    "\n",
    "# Initialize counters\n",
    "aggregated_file_count = 0\n",
    "count_file_count = 0\n",
    "\n",
    "# Iterate over subfolders\n",
    "for subfolder in subfolders:\n",
    "    # Get the list of files in the subfolder\n",
    "    files = os.listdir(os.path.join(folder_path, subfolder))\n",
    "    \n",
    "    # Iterate over files in the subfolder\n",
    "    for file in files:\n",
    "        # Check if it's an aggregated file\n",
    "        if file.startswith(subfolder) and '_' in file:\n",
    "            aggregated_file_count += 1\n",
    "        # Check if it's a count file\n",
    "        if file.startswith(subfolder) and '-' in file and 'donnees' in file:\n",
    "            count_file_count += 1\n",
    "\n",
    "# Print the counts\n",
    "print(f\"Total number of aggregated files: {aggregated_file_count}\")\n",
    "print(f\"Total number of count files: {count_file_count}\")"
   ]
  },
  {
   "cell_type": "code",
   "execution_count": 12,
   "id": "b6937f69",
   "metadata": {},
   "outputs": [
    {
     "name": "stdout",
     "output_type": "stream",
     "text": [
      "Aggregated Files per Year:\n",
      "Year 2014: 359\n",
      "Year 2015: 426\n",
      "Year 2016: 454\n",
      "Year 2017: 479\n",
      "Year 2018: 484\n",
      "Year 2019: 518\n",
      "Year 2020: 485\n",
      "Year 2021: 466\n",
      "Year 2022: 292\n",
      "Count Files per Year:\n",
      "Year 2018: 2369\n",
      "Year 2019: 2395\n",
      "Year 2020: 1767\n",
      "Year 2021: 1961\n",
      "Year 2022: 1949\n"
     ]
    }
   ],
   "source": [
    "# Initialize dictionaries to store the counts per year\n",
    "aggregated_files_per_year = {}\n",
    "count_files_per_year = {}\n",
    "\n",
    "# Iterate over subfolders\n",
    "for subfolder in subfolders:\n",
    "    # Get the list of files in the subfolder\n",
    "    files = os.listdir(os.path.join(folder_path, subfolder))\n",
    "    \n",
    "    # Iterate over files in the subfolder\n",
    "    for file in files:\n",
    "        # Check if it's an aggregated file\n",
    "        if file.startswith(subfolder) and '_' in file:\n",
    "            year = file.split('_')[-1].split('.')[0]\n",
    "            if year in aggregated_files_per_year:\n",
    "                aggregated_files_per_year[year] += 1\n",
    "            else:\n",
    "                aggregated_files_per_year[year] = 1\n",
    "        # Check if it's a count file\n",
    "        if file.startswith(subfolder) and '-' in file and 'donnees' in file:\n",
    "            year = file.split('-')[-2]\n",
    "            if year in count_files_per_year:\n",
    "                count_files_per_year[year] += 1\n",
    "            else:\n",
    "                count_files_per_year[year] = 1\n",
    "\n",
    "# Print the counts per year for aggregated files\n",
    "print(\"Aggregated Files per Year:\")\n",
    "for year, count in sorted(aggregated_files_per_year.items()):\n",
    "    print(f\"Year {year}: {count}\")\n",
    "\n",
    "# Print the counts per year for count files\n",
    "print(\"Count Files per Year:\")\n",
    "for year, count in sorted(count_files_per_year.items()):\n",
    "    print(f\"Year {year}: {count}\")\n"
   ]
  },
  {
   "cell_type": "code",
   "execution_count": 22,
   "id": "b9051fbe-5005-4322-8545-3b8211035a01",
   "metadata": {},
   "outputs": [
    {
     "data": {
      "image/png": "[encoded data removed]",
      "text/plain": [
       "<Figure size 1000x600 with 1 Axes>"
      ]
     },
     "metadata": {},
     "output_type": "display_data"
    }
   ],
   "source": [
    "# Extract years and corresponding counts\n",
    "years = sorted(set(aggregated_files_per_year.keys()) | set(count_files_per_year.keys()))\n",
    "aggregated_counts = [aggregated_files_per_year.get(year, 0) for year in years]\n",
    "count_counts = [count_files_per_year.get(year, 0) for year in years]\n",
    "\n",
    "# width of the bars\n",
    "bar_width = 0.35\n",
    "\n",
    "# Generate the x-axis positions for the bars\n",
    "x = np.arange(len(years))\n",
    "\n",
    "# Create the bar plot\n",
    "plt.figure(figsize=(10, 6))\n",
    "plt.bar(x - bar_width/2, aggregated_counts, width=bar_width, color='skyblue', label='Aggregated Files')\n",
    "plt.bar(x + bar_width/2, count_counts, width=bar_width, color='lightcoral', label='Count Files')\n",
    "plt.xlabel('Year')\n",
    "plt.ylabel('File Count')\n",
    "plt.title('File Counts per Year')\n",
    "plt.xticks(x, years, rotation=45)\n",
    "plt.legend()\n",
    "plt.tight_layout()\n",
    "plt.show()"
   ]
  },
  {
   "cell_type": "code",
   "execution_count": null,
   "id": "1adde1d1-7eb0-4d12-81da-7673d9188040",
   "metadata": {},
   "outputs": [],
   "source": [
    "#example of analysis using the folders"
   ]
  },
  {
   "cell_type": "code",
   "execution_count": null,
   "id": "b6edcd4b",
   "metadata": {},
   "outputs": [],
   "source": []
  }
 ],
 "metadata": {
  "kernelspec": {
   "display_name": "Python 3 (ipykernel)",
   "language": "python",
   "name": "python3"
  },
  "language_info": {
   "codemirror_mode": {
    "name": "ipython",
    "version": 3
   },
   "file_extension": ".py",
   "mimetype": "text/x-python",
   "name": "python",
   "nbconvert_exporter": "python",
   "pygments_lexer": "ipython3",
   "version": "3.10.9"
  }
 },
 "nbformat": 4,
 "nbformat_minor": 5
}
